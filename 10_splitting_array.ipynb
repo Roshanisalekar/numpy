{
 "cells": [
  {
   "cell_type": "code",
   "execution_count": 1,
   "id": "0b386760",
   "metadata": {},
   "outputs": [],
   "source": [
    "import numpy as np"
   ]
  },
  {
   "cell_type": "code",
   "execution_count": null,
   "id": "6fbe835e",
   "metadata": {},
   "outputs": [],
   "source": [
    "# splitting is reverse operation of joining\n",
    "# splitting means breaks one array into multiple array"
   ]
  },
  {
   "cell_type": "code",
   "execution_count": 3,
   "id": "550e8e0e",
   "metadata": {},
   "outputs": [
    {
     "name": "stdout",
     "output_type": "stream",
     "text": [
      "[array([1, 2, 3]), array([4, 5, 6]), array([7, 8, 9]), array([10, 11, 12])]\n"
     ]
    }
   ],
   "source": [
    "a=np.array([1,2,3,4,5,6,7,8,9,10,11,12])\n",
    "b=np.split(a,4)\n",
    "print(b)"
   ]
  },
  {
   "cell_type": "code",
   "execution_count": 5,
   "id": "9680f37a",
   "metadata": {},
   "outputs": [
    {
     "name": "stdout",
     "output_type": "stream",
     "text": [
      "[array([1, 2]), array([3, 4]), array([5]), array([6])]\n"
     ]
    }
   ],
   "source": [
    "s=np.array([1,2,3,4,5,6])\n",
    "d=np.array_split(s,4)\n",
    "print(d)"
   ]
  },
  {
   "cell_type": "code",
   "execution_count": 7,
   "id": "cd4ae3f2",
   "metadata": {},
   "outputs": [
    {
     "name": "stdout",
     "output_type": "stream",
     "text": [
      "[1 2]\n",
      "[3 4]\n",
      "[5 6]\n"
     ]
    }
   ],
   "source": [
    "# access splitting with help of indexing\n",
    "a=np.array([1,2,3,4,5,6])\n",
    "f=np.array_split(a,3)\n",
    "\n",
    "print(f[0])\n",
    "print(f[1])\n",
    "print(f[2])"
   ]
  },
  {
   "cell_type": "code",
   "execution_count": 9,
   "id": "1b46dd94",
   "metadata": {},
   "outputs": [
    {
     "name": "stdout",
     "output_type": "stream",
     "text": [
      "[array([[1, 2],\n",
      "       [3, 4],\n",
      "       [5, 6]]), array([[ 7,  8],\n",
      "       [ 9, 10],\n",
      "       [11, 12]])]\n"
     ]
    }
   ],
   "source": [
    "# 2D splitting \n",
    "a=np.array([[1,2],[3,4],[5,6],[7,8],[9,10],[11,12]])\n",
    "s=np.array_split(a,2)\n",
    "print(s)"
   ]
  },
  {
   "cell_type": "code",
   "execution_count": 10,
   "id": "cd03bd75",
   "metadata": {},
   "outputs": [
    {
     "name": "stdout",
     "output_type": "stream",
     "text": [
      "[array([[1, 2],\n",
      "       [3, 4]]), array([[5, 6],\n",
      "       [7, 8]]), array([[ 9, 10],\n",
      "       [11, 12]])]\n"
     ]
    }
   ],
   "source": [
    "a=np.array([[1,2],[3,4],[5,6],[7,8],[9,10],[11,12]])\n",
    "s=np.array_split(a,3)\n",
    "print(s)"
   ]
  },
  {
   "cell_type": "code",
   "execution_count": 11,
   "id": "26731d31",
   "metadata": {},
   "outputs": [
    {
     "name": "stdout",
     "output_type": "stream",
     "text": [
      "[array([[1, 2],\n",
      "       [3, 4]]), array([[5, 6],\n",
      "       [7, 8]]), array([[ 9, 10]]), array([[11, 12]])]\n"
     ]
    }
   ],
   "source": [
    "a=np.array([[1,2],[3,4],[5,6],[7,8],[9,10],[11,12]])\n",
    "s=np.array_split(a,4)\n",
    "print(s)"
   ]
  },
  {
   "cell_type": "code",
   "execution_count": 12,
   "id": "978462e8",
   "metadata": {},
   "outputs": [
    {
     "name": "stdout",
     "output_type": "stream",
     "text": [
      "[array([[1, 2],\n",
      "       [3, 4]]), array([[5, 6]]), array([[7, 8]]), array([[ 9, 10]]), array([[11, 12]])]\n"
     ]
    }
   ],
   "source": [
    "a=np.array([[1,2],[3,4],[5,6],[7,8],[9,10],[11,12]])\n",
    "s=np.array_split(a,5)\n",
    "print(s)"
   ]
  },
  {
   "cell_type": "code",
   "execution_count": null,
   "id": "1fba6e5b",
   "metadata": {},
   "outputs": [
    {
     "name": "stdout",
     "output_type": "stream",
     "text": [
      "[array([[1, 2, 3],\n",
      "       [4, 5, 6]]), array([[ 7,  8,  9],\n",
      "       [21, 22, 23]]), array([[24, 25, 26],\n",
      "       [27, 28, 29]])]\n"
     ]
    }
   ],
   "source": [
    "v=np.array([[1,2,3],[4,5,6],[7,8,9],[21,22,23],[24,25,26],[27,28,29]])\n",
    "b=np.array_split(v,3,axis=0)\n",
    "print(b)"
   ]
  },
  {
   "cell_type": "code",
   "execution_count": 14,
   "id": "69b2a81c",
   "metadata": {},
   "outputs": [
    {
     "name": "stdout",
     "output_type": "stream",
     "text": [
      "[array([[ 1],\n",
      "       [ 4],\n",
      "       [ 7],\n",
      "       [21],\n",
      "       [24],\n",
      "       [27]]), array([[ 2],\n",
      "       [ 5],\n",
      "       [ 8],\n",
      "       [22],\n",
      "       [25],\n",
      "       [28]]), array([[ 3],\n",
      "       [ 6],\n",
      "       [ 9],\n",
      "       [23],\n",
      "       [26],\n",
      "       [29]])]\n"
     ]
    }
   ],
   "source": [
    "v=np.array([[1,2,3],[4,5,6],[7,8,9],[21,22,23],[24,25,26],[27,28,29]])\n",
    "b=np.array_split(v,3,axis=1)\n",
    "print(b)"
   ]
  },
  {
   "cell_type": "code",
   "execution_count": 16,
   "id": "a02c0a2d",
   "metadata": {},
   "outputs": [
    {
     "name": "stdout",
     "output_type": "stream",
     "text": [
      "[array([[1, 2, 3],\n",
      "       [4, 5, 6]]), array([[ 7,  8,  9],\n",
      "       [21, 22, 23]]), array([[24, 25, 26]]), array([[27, 28, 29]])]\n"
     ]
    }
   ],
   "source": [
    "v=np.array([[1,2,3],[4,5,6],[7,8,9],[21,22,23],[24,25,26],[27,28,29]])\n",
    "b=np.array_split(v,4,axis=0)\n",
    "print(b)"
   ]
  },
  {
   "cell_type": "code",
   "execution_count": 17,
   "id": "603e3a70",
   "metadata": {},
   "outputs": [
    {
     "name": "stdout",
     "output_type": "stream",
     "text": [
      "[array([[ 1],\n",
      "       [ 4],\n",
      "       [ 7],\n",
      "       [21],\n",
      "       [24],\n",
      "       [27]]), array([[ 2],\n",
      "       [ 5],\n",
      "       [ 8],\n",
      "       [22],\n",
      "       [25],\n",
      "       [28]]), array([[ 3],\n",
      "       [ 6],\n",
      "       [ 9],\n",
      "       [23],\n",
      "       [26],\n",
      "       [29]])]\n"
     ]
    }
   ],
   "source": [
    "v=np.array([[1,2,3],[4,5,6],[7,8,9],[21,22,23],[24,25,26],[27,28,29]])\n",
    "b=np.hsplit(v,3)\n",
    "print(b)"
   ]
  },
  {
   "cell_type": "code",
   "execution_count": 18,
   "id": "40d2e704",
   "metadata": {},
   "outputs": [
    {
     "name": "stdout",
     "output_type": "stream",
     "text": [
      "[array([[1, 2, 3],\n",
      "       [4, 5, 6]]), array([[ 7,  8,  9],\n",
      "       [21, 22, 23]]), array([[24, 25, 26],\n",
      "       [27, 28, 29]])]\n"
     ]
    }
   ],
   "source": [
    "v=np.array([[1,2,3],[4,5,6],[7,8,9],[21,22,23],[24,25,26],[27,28,29]])\n",
    "b=np.vsplit(v,3)\n",
    "print(b)"
   ]
  }
 ],
 "metadata": {
  "kernelspec": {
   "display_name": "Python 3",
   "language": "python",
   "name": "python3"
  },
  "language_info": {
   "codemirror_mode": {
    "name": "ipython",
    "version": 3
   },
   "file_extension": ".py",
   "mimetype": "text/x-python",
   "name": "python",
   "nbconvert_exporter": "python",
   "pygments_lexer": "ipython3",
   "version": "3.12.4"
  }
 },
 "nbformat": 4,
 "nbformat_minor": 5
}
