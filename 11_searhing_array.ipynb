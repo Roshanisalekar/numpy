{
 "cells": [
  {
   "cell_type": "code",
   "execution_count": null,
   "id": "f0c7b535",
   "metadata": {},
   "outputs": [],
   "source": [
    "# you can search an array for a certain value and return the indexes that get a match.\n",
    "# use the where() method."
   ]
  },
  {
   "cell_type": "code",
   "execution_count": 1,
   "id": "8ae43bbf",
   "metadata": {},
   "outputs": [],
   "source": [
    "import numpy as np"
   ]
  },
  {
   "cell_type": "code",
   "execution_count": 2,
   "id": "60572c91",
   "metadata": {},
   "outputs": [
    {
     "name": "stdout",
     "output_type": "stream",
     "text": [
      "(array([ 4,  6,  8,  9, 10]),)\n"
     ]
    }
   ],
   "source": [
    "a=np.array([1,2,3,4,5,6,5,6,5,5,5])\n",
    "b=np.where(a==5)\n",
    "print(b)"
   ]
  },
  {
   "cell_type": "code",
   "execution_count": 6,
   "id": "194533cb",
   "metadata": {},
   "outputs": [
    {
     "name": "stdout",
     "output_type": "stream",
     "text": [
      "[5 5 5 5 5]\n",
      "(array([ 4,  6,  8,  9, 10]),)\n"
     ]
    }
   ],
   "source": [
    "d=a[b]\n",
    "print(d)\n",
    "print(b)"
   ]
  },
  {
   "cell_type": "code",
   "execution_count": 9,
   "id": "765a9457",
   "metadata": {},
   "outputs": [
    {
     "name": "stdout",
     "output_type": "stream",
     "text": [
      "(array([1, 3, 5]),)\n",
      "[2. 4. 6.]\n"
     ]
    }
   ],
   "source": [
    "# find even value\n",
    "s=np.array([1,2,3,4,5,6,7.8,9])\n",
    "a=np.where(s%2==0)\n",
    "print(a)\n",
    "q=s[a]\n",
    "print(q)"
   ]
  },
  {
   "cell_type": "code",
   "execution_count": 12,
   "id": "b5c00c6c",
   "metadata": {},
   "outputs": [
    {
     "name": "stdout",
     "output_type": "stream",
     "text": [
      "(array([ 3,  5,  7,  8, 10]),)\n",
      "[45 41  5  1 15]\n"
     ]
    }
   ],
   "source": [
    "# find odd value\n",
    "w=np.array([44,556,78,45,22,41,4,5,1,12,15,18])\n",
    "e=np.where(w%2==1)\n",
    "print(e)\n",
    "d=w[e]\n",
    "print(d)"
   ]
  },
  {
   "cell_type": "code",
   "execution_count": 14,
   "id": "3b479957",
   "metadata": {},
   "outputs": [
    {
     "name": "stdout",
     "output_type": "stream",
     "text": [
      "(array([2, 3, 4]),)\n",
      "[4 5 6]\n"
     ]
    }
   ],
   "source": [
    "d=np.array([1,2,4,5,6,0])\n",
    "a=np.where(d>2)\n",
    "print(a)\n",
    "w=d[a]\n",
    "print(w)"
   ]
  },
  {
   "cell_type": "code",
   "execution_count": 16,
   "id": "f62100ad",
   "metadata": {},
   "outputs": [
    {
     "name": "stdout",
     "output_type": "stream",
     "text": [
      "2\n",
      "[1 2 4 5 6]\n"
     ]
    }
   ],
   "source": [
    "# search sorted\n",
    "\n",
    "a=np.array([1,2,4,5,6])\n",
    "x=np.searchsorted(a,3)\n",
    "print(x)\n",
    "print(a)"
   ]
  },
  {
   "cell_type": "code",
   "execution_count": 17,
   "id": "3ce720ca",
   "metadata": {},
   "outputs": [
    {
     "name": "stdout",
     "output_type": "stream",
     "text": [
      "2\n"
     ]
    }
   ],
   "source": [
    "# seacrhmethod\n",
    "a=np.array([12,14,16,17,18])\n",
    "b=np.searchsorted(a,15)\n",
    "print(b)"
   ]
  },
  {
   "cell_type": "code",
   "execution_count": 18,
   "id": "6af4b131",
   "metadata": {},
   "outputs": [
    {
     "name": "stdout",
     "output_type": "stream",
     "text": [
      "2\n"
     ]
    }
   ],
   "source": [
    "a=np.array([12,14,16,17,18])\n",
    "b=np.searchsorted(a,16)\n",
    "print(b)"
   ]
  },
  {
   "cell_type": "code",
   "execution_count": 20,
   "id": "e18768e5",
   "metadata": {},
   "outputs": [
    {
     "name": "stdout",
     "output_type": "stream",
     "text": [
      "4\n"
     ]
    }
   ],
   "source": [
    "#  side = right\n",
    "a=np.array([12,14,16,17,18])\n",
    "b=np.searchsorted(a,17,side='right')\n",
    "print(b)"
   ]
  },
  {
   "cell_type": "code",
   "execution_count": 23,
   "id": "8de57c7d",
   "metadata": {},
   "outputs": [
    {
     "name": "stdout",
     "output_type": "stream",
     "text": [
      "4\n"
     ]
    }
   ],
   "source": [
    "a=np.array([12,14,16,17,18])\n",
    "b=np.searchsorted(a,18,side='left')\n",
    "print(b)"
   ]
  },
  {
   "cell_type": "code",
   "execution_count": 24,
   "id": "9340a96b",
   "metadata": {},
   "outputs": [
    {
     "name": "stdout",
     "output_type": "stream",
     "text": [
      "[1 2 3]\n"
     ]
    }
   ],
   "source": [
    "a=np.array([1,3,5,7])\n",
    "x=np.searchsorted(a,[2,4,6])\n",
    "print(x)"
   ]
  },
  {
   "cell_type": "code",
   "execution_count": null,
   "id": "da25e058",
   "metadata": {},
   "outputs": [],
   "source": []
  }
 ],
 "metadata": {
  "kernelspec": {
   "display_name": "Python 3",
   "language": "python",
   "name": "python3"
  },
  "language_info": {
   "codemirror_mode": {
    "name": "ipython",
    "version": 3
   },
   "file_extension": ".py",
   "mimetype": "text/x-python",
   "name": "python",
   "nbconvert_exporter": "python",
   "pygments_lexer": "ipython3",
   "version": "3.12.4"
  }
 },
 "nbformat": 4,
 "nbformat_minor": 5
}
