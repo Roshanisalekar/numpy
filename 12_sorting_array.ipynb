{
 "cells": [
  {
   "cell_type": "code",
   "execution_count": 1,
   "id": "247e7e9a",
   "metadata": {},
   "outputs": [],
   "source": [
    "import numpy as np"
   ]
  },
  {
   "cell_type": "code",
   "execution_count": null,
   "id": "7fb7ca41",
   "metadata": {},
   "outputs": [],
   "source": [
    "# sorting means putting element in an ordered sequence.\n",
    "# ordered sequence is numeric,alphabetial,ascending or descending order"
   ]
  },
  {
   "cell_type": "code",
   "execution_count": 2,
   "id": "eeaa14ea",
   "metadata": {},
   "outputs": [
    {
     "name": "stdout",
     "output_type": "stream",
     "text": [
      "[0 1 2 2 5 6 7 8 9]\n"
     ]
    }
   ],
   "source": [
    "a=np.array([5,7,2,1,0,2,8,6, 9])\n",
    "print(np.sort(a))"
   ]
  },
  {
   "cell_type": "code",
   "execution_count": 3,
   "id": "b3307d4b",
   "metadata": {},
   "outputs": [
    {
     "name": "stdout",
     "output_type": "stream",
     "text": [
      "['amol' 'divya' 'roshani' 'sakshi' 'savi']\n"
     ]
    }
   ],
   "source": [
    "b=np.array(['roshani','sakshi','amol','divya','savi'])\n",
    "print(np.sort(b))"
   ]
  },
  {
   "cell_type": "code",
   "execution_count": 4,
   "id": "69f84448",
   "metadata": {},
   "outputs": [
    {
     "name": "stdout",
     "output_type": "stream",
     "text": [
      "[False False False  True  True  True]\n"
     ]
    }
   ],
   "source": [
    "s=np.array([True,False,False,True,True,False])\n",
    "print(np.sort(s))"
   ]
  },
  {
   "cell_type": "code",
   "execution_count": 5,
   "id": "37c4de5e",
   "metadata": {},
   "outputs": [
    {
     "name": "stdout",
     "output_type": "stream",
     "text": [
      "[[2 3 4]\n",
      " [0 2 5]]\n"
     ]
    }
   ],
   "source": [
    "a=np.array([[4,2,3],[5,0,2]])\n",
    "print(np.sort(a))"
   ]
  }
 ],
 "metadata": {
  "kernelspec": {
   "display_name": "Python 3",
   "language": "python",
   "name": "python3"
  },
  "language_info": {
   "codemirror_mode": {
    "name": "ipython",
    "version": 3
   },
   "file_extension": ".py",
   "mimetype": "text/x-python",
   "name": "python",
   "nbconvert_exporter": "python",
   "pygments_lexer": "ipython3",
   "version": "3.12.4"
  }
 },
 "nbformat": 4,
 "nbformat_minor": 5
}
