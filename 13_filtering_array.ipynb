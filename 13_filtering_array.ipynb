{
 "cells": [
  {
   "cell_type": "code",
   "execution_count": 1,
   "id": "3dfc3a79",
   "metadata": {},
   "outputs": [],
   "source": [
    "import numpy as np"
   ]
  },
  {
   "cell_type": "code",
   "execution_count": 2,
   "id": "38db4e65",
   "metadata": {},
   "outputs": [
    {
     "name": "stdout",
     "output_type": "stream",
     "text": [
      "[42 65 48]\n"
     ]
    }
   ],
   "source": [
    "a=np.array([42,45,65,40,48])\n",
    "y=np.array([True,False,True,False,True])\n",
    "n=a[y]\n",
    "print(n)"
   ]
  },
  {
   "cell_type": "code",
   "execution_count": 5,
   "id": "eefa1d95",
   "metadata": {},
   "outputs": [
    {
     "name": "stdout",
     "output_type": "stream",
     "text": [
      "[False, False, False, True, False, True, False, True]\n",
      "[45 29 56]\n"
     ]
    }
   ],
   "source": [
    "# create filter array that will return only values higher than 12\n",
    "\n",
    "a=np.array([1,7,8,45,12,29,6,56])\n",
    "\n",
    "filter_arr =[]\n",
    "\n",
    "for i in a:\n",
    "    if i>12:\n",
    "        filter_arr.append(True)\n",
    "    else:\n",
    "        filter_arr.append(False)\n",
    "    \n",
    "n=a[filter_arr]   \n",
    "\n",
    "print(filter_arr)\n",
    "print(n)"
   ]
  },
  {
   "cell_type": "code",
   "execution_count": 6,
   "id": "90aa9074",
   "metadata": {},
   "outputs": [
    {
     "name": "stdout",
     "output_type": "stream",
     "text": [
      "[ 2  4  6  8 10]\n",
      "[False, True, False, True, False, True, False, True, False, True]\n"
     ]
    }
   ],
   "source": [
    "a=np.array([1,2,3,4,5,6,7,8,9,10])\n",
    "\n",
    "b=[]\n",
    "\n",
    "for i in a:\n",
    "    if i%2==0:\n",
    "        b.append(True)\n",
    "    else:\n",
    "        b.append(False)\n",
    "    \n",
    "s=a[b]\n",
    "print(s)\n",
    "print(b)"
   ]
  },
  {
   "cell_type": "code",
   "execution_count": 8,
   "id": "deb2de4e",
   "metadata": {},
   "outputs": [
    {
     "name": "stdout",
     "output_type": "stream",
     "text": [
      "[ True False False False False  True False  True]\n",
      "[-7 -8 -9]\n"
     ]
    }
   ],
   "source": [
    "#  create a filter array that will return only values less than 0\n",
    "\n",
    "a=np.array([-7,8,9,56,67,-8,6,-9])\n",
    "filter_arr=a<0\n",
    "n=a[filter_arr]\n",
    "print(filter_arr)\n",
    "print(n)"
   ]
  },
  {
   "cell_type": "code",
   "execution_count": 9,
   "id": "a4fc655d",
   "metadata": {},
   "outputs": [
    {
     "name": "stdout",
     "output_type": "stream",
     "text": [
      "[False False False  True  True  True  True False False False False]\n",
      "[56 56 56 56]\n"
     ]
    }
   ],
   "source": [
    "#  create a filter array that will return only values equal to 56\n",
    "\n",
    "a=np.array([-7,8,9,56,56,56,56,67,-8,6,-9])\n",
    "filter_arr=a==56\n",
    "n=a[filter_arr]\n",
    "print(filter_arr)\n",
    "print(n)"
   ]
  }
 ],
 "metadata": {
  "kernelspec": {
   "display_name": "Python 3",
   "language": "python",
   "name": "python3"
  },
  "language_info": {
   "codemirror_mode": {
    "name": "ipython",
    "version": 3
   },
   "file_extension": ".py",
   "mimetype": "text/x-python",
   "name": "python",
   "nbconvert_exporter": "python",
   "pygments_lexer": "ipython3",
   "version": "3.12.4"
  }
 },
 "nbformat": 4,
 "nbformat_minor": 5
}
