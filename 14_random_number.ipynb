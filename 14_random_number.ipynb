{
 "cells": [
  {
   "cell_type": "code",
   "execution_count": 14,
   "id": "a85b89e1-2bbe-4ad6-bb28-da0fc41b6753",
   "metadata": {},
   "outputs": [],
   "source": [
    "import numpy as np\n",
    "# random number does not mean a different number every time ."
   ]
  },
  {
   "cell_type": "code",
   "execution_count": 10,
   "id": "a815f47c-fcf8-4ff1-9524-b035a0d72da7",
   "metadata": {},
   "outputs": [
    {
     "name": "stdout",
     "output_type": "stream",
     "text": [
      "76\n"
     ]
    }
   ],
   "source": [
    "# generate a random integer from 0 to 100\n",
    "from numpy import random\n",
    "x = random.randint(100)\n",
    "print(x)"
   ]
  },
  {
   "cell_type": "code",
   "execution_count": 13,
   "id": "12194502-14c3-4b8b-ab14-67ce64a3a426",
   "metadata": {},
   "outputs": [
    {
     "name": "stdout",
     "output_type": "stream",
     "text": [
      "0.6726910191126191\n"
     ]
    }
   ],
   "source": [
    "# generate a random float from 0 to 1 ------ by defualt between 0 and 1\n",
    "#from numpy import random\n",
    "x = random.rand()\n",
    "print(x)"
   ]
  },
  {
   "cell_type": "code",
   "execution_count": 16,
   "id": "46be9e1f-d1cc-4c60-af58-9f4edd9fd3a2",
   "metadata": {},
   "outputs": [
    {
     "name": "stdout",
     "output_type": "stream",
     "text": [
      "[25 23 15 83 84]\n"
     ]
    }
   ],
   "source": [
    "# generate a random array from 0 to 100 integer value  and 5 random number  [1D]\n",
    "from numpy import random\n",
    "x = random.randint(100,size=5)  \n",
    "print(x)"
   ]
  },
  {
   "cell_type": "code",
   "execution_count": 17,
   "id": "8cdf1277-14de-4d64-9fc9-96107d634407",
   "metadata": {},
   "outputs": [
    {
     "name": "stdout",
     "output_type": "stream",
     "text": [
      "[[24 47 89 68  3]\n",
      " [60 30 33 97 72]\n",
      " [39 37 89 35 28]]\n"
     ]
    }
   ],
   "source": [
    "# generate a random array from 0 to 100 integer value  and 5 random number  [2D]\n",
    "from numpy import random\n",
    "x = random.randint(100,size=(3,5))  \n",
    "print(x)"
   ]
  },
  {
   "cell_type": "code",
   "execution_count": 20,
   "id": "db55a9a4-57de-4d85-8c6d-d76f38223a52",
   "metadata": {},
   "outputs": [
    {
     "name": "stdout",
     "output_type": "stream",
     "text": [
      "[0.38961088 0.70843454 0.3798344  0.37780472 0.6714038 ]\n"
     ]
    }
   ],
   "source": [
    "# float\n",
    "x=random.rand(5)\n",
    "print(x)"
   ]
  },
  {
   "cell_type": "code",
   "execution_count": 21,
   "id": "05e6b5fa-bad3-4dd7-b901-b4d6787e8359",
   "metadata": {},
   "outputs": [
    {
     "name": "stdout",
     "output_type": "stream",
     "text": [
      "[[0.78817379 0.28302302 0.13890624 0.12078246 0.15426091]\n",
      " [0.18904533 0.85369242 0.16810384 0.2721037  0.69961975]\n",
      " [0.27373988 0.5404327  0.77357148 0.56821956 0.71607901]]\n"
     ]
    }
   ],
   "source": [
    "y=random.rand(3,5)\n",
    "print(y)"
   ]
  },
  {
   "cell_type": "code",
   "execution_count": 28,
   "id": "35b67958-b53a-49f0-9b0e-960c3ab8dbb4",
   "metadata": {},
   "outputs": [
    {
     "name": "stdout",
     "output_type": "stream",
     "text": [
      "2\n"
     ]
    }
   ],
   "source": [
    "# generate random number array from array\n",
    "# choice()\n",
    "\n",
    "x=random.choice ([1,2,5,6,7])\n",
    "print(x)"
   ]
  },
  {
   "cell_type": "code",
   "execution_count": 30,
   "id": "90b17d8f-6ce0-4662-b755-8b1d80bfa60f",
   "metadata": {},
   "outputs": [
    {
     "data": {
      "text/plain": [
       "array([[5, 9, 9, 9, 9],\n",
       "       [6, 9, 5, 6, 8],\n",
       "       [9, 5, 6, 5, 8]])"
      ]
     },
     "execution_count": 30,
     "metadata": {},
     "output_type": "execute_result"
    }
   ],
   "source": [
    "y=random.choice([8,9,6,5],size=(3,5))\n",
    "y"
   ]
  },
  {
   "cell_type": "code",
   "execution_count": null,
   "id": "33410a9d-911d-4d09-8cca-2ffb0acb7b9b",
   "metadata": {},
   "outputs": [],
   "source": []
  }
 ],
 "metadata": {
  "kernelspec": {
   "display_name": "Python 3 (ipykernel)",
   "language": "python",
   "name": "python3"
  },
  "language_info": {
   "codemirror_mode": {
    "name": "ipython",
    "version": 3
   },
   "file_extension": ".py",
   "mimetype": "text/x-python",
   "name": "python",
   "nbconvert_exporter": "python",
   "pygments_lexer": "ipython3",
   "version": "3.12.4"
  }
 },
 "nbformat": 4,
 "nbformat_minor": 5
}
