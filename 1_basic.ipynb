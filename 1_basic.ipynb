{
 "cells": [
  {
   "cell_type": "code",
   "execution_count": null,
   "id": "f8515707-f2fd-46d0-8b5e-27909d290b34",
   "metadata": {},
   "outputs": [
    {
     "ename": "",
     "evalue": "",
     "output_type": "error",
     "traceback": [
      "\u001b[1;31mThe kernel failed to start as 'eq' could not be imported from 'c:\\Users\\ADMIN\\Downloads\\operator.py'.\n",
      "\u001b[1;31mClick <a href='https://aka.ms/kernelFailuresModuleImportErrFromFile'>here</a> for more info."
     ]
    }
   ],
   "source": [
    "import numpy as np \n",
    "\n",
    "#------------------------------------------------------------------------------------------------------------------------------\n",
    "l=[1,2,4,21,6] # list may comma hota hai  // op :[1, 2, 4, 21, 6]\n",
    "print(l)\n",
    "\n",
    "n=np.array([1,2,3,4,5,6])   # array may comma nahi hota hai  // op : [1 2 3 4 5 6]\n",
    "print(n)\n",
    "\n",
    "#------------------------------------------------------------------------------------------------------------------------------\n",
    "\n",
    "l2=[1,2,4,5,6,'7']   # list may different datatype store hote hai [1, 2, 4, 5, 6, '7']\n",
    "print(l2)\n",
    "\n",
    "n=np.array([1,2,4,5,6,'7'])  # only one datatype store hota hai  but differnt datatype may convert hota hai // op :  ['1' '2' '4' '5' '6' '7']\n",
    "print(n)                     # priority  bases   --- int --- float --- string \n",
    "\n",
    "#------------------------------------------------------------------------------------------------------------------------------"
   ]
  },
  {
   "cell_type": "code",
   "execution_count": null,
   "id": "d6b99424-e6db-4110-9402-a2d0bfdf0672",
   "metadata": {},
   "outputs": [],
   "source": [
    "a=np.array([1,2,3,4,5])"
   ]
  },
  {
   "cell_type": "code",
   "execution_count": null,
   "id": "1d2903fc-a3e9-481c-93ed-bec9654e14f3",
   "metadata": {},
   "outputs": [],
   "source": [
    "print(a)\n",
    "a.ndim\n",
    "a.size\n",
    "a.shape\n",
    "a.dtype\n",
    "a.reshape(5,1)"
   ]
  },
  {
   "cell_type": "code",
   "execution_count": null,
   "id": "84a38763-dca1-4edc-bf74-9fb6ca160c54",
   "metadata": {},
   "outputs": [],
   "source": [
    "b=np.array([[1,2,2],[2,3,4],[6,7,8]])\n",
    "#print(b)\n",
    "b.ndim\n",
    "b.size\n",
    "b.shape\n",
    "b.dtype\n",
    "b.reshape(1,9)\n",
    "#b.reshape(9,1)\n",
    "#b.reshape(3,3)"
   ]
  },
  {
   "cell_type": "code",
   "execution_count": null,
   "id": "dc2d0579-2a6f-4a90-8339-bd0d55558088",
   "metadata": {},
   "outputs": [],
   "source": [
    "c=np.array([[[1,2,3],[6,78,5]]])\n",
    "print(c)\n",
    "c.ndim\n",
    "c.size\n",
    "c.shape\n",
    "c.dtype\n",
    "c.reshape(3,2)\n",
    "c.reshape(1,6)\n",
    "c.reshape(6,1)\n",
    "c.reshape(2,3)"
   ]
  },
  {
   "cell_type": "code",
   "execution_count": null,
   "id": "86936a26-1fe3-4837-8fb5-b4978a6a1d72",
   "metadata": {},
   "outputs": [],
   "source": []
  },
  {
   "cell_type": "code",
   "execution_count": null,
   "id": "29d5aab6-bd26-4bcb-8777-bc8c7b7822a0",
   "metadata": {},
   "outputs": [
    {
     "name": "stdout",
     "output_type": "stream",
     "text": [
      "[[[[1 2 3]\n",
      "   [5 6 7]\n",
      "   [9 0 6]\n",
      "   [2 4 5]]]]\n",
      "[[1 2 3 5]\n",
      " [6 7 9 0]\n",
      " [6 2 4 5]]\n"
     ]
    }
   ],
   "source": [
    "d=np.array([[[[1,2,3],[5,6,7],[9,0,6],[2,4,5]]]])\n",
    "print(d)\n",
    "d.ndim\n",
    "d.size\n",
    "d.shape\n",
    "d.dtype\n",
    "s=d.reshape(3,4)\n",
    "s\n",
    "print(s)\n",
    "d.reshape(2,6)\n"
   ]
  },
  {
   "cell_type": "code",
   "execution_count": null,
   "id": "211d1b7a-9315-4f42-927c-9e99198d082d",
   "metadata": {},
   "outputs": [
    {
     "ename": "",
     "evalue": "",
     "output_type": "error",
     "traceback": [
      "\u001b[1;31mThe kernel failed to start as 'eq' could not be imported from 'c:\\Users\\ADMIN\\Downloads\\operator.py'.\n",
      "\u001b[1;31mClick <a href='https://aka.ms/kernelFailuresModuleImportErrFromFile'>here</a> for more info."
     ]
    }
   ],
   "source": [
    "f=np.array([[[[[[2,4,5]]]]]])\n",
    "print(f)\n",
    "f.ndim\n",
    "f.size\n",
    "f.shape\n",
    "f.dtype\n",
    "f.reshape(3,1)"
   ]
  },
  {
   "cell_type": "code",
   "execution_count": null,
   "id": "c4527e98",
   "metadata": {},
   "outputs": [
    {
     "ename": "",
     "evalue": "",
     "output_type": "error",
     "traceback": [
      "\u001b[1;31mThe kernel failed to start as 'eq' could not be imported from 'c:\\Users\\ADMIN\\Downloads\\operator.py'.\n",
      "\u001b[1;31mClick <a href='https://aka.ms/kernelFailuresModuleImportErrFromFile'>here</a> for more info."
     ]
    }
   ],
   "source": [
    "e=np.array([[[[[2,6,22,12,42],[24,2,12,2,1],[22,2,21,21,2]]]]])\n",
    "print(e)\n",
    "e.ndim\n",
    "e.size\n",
    "e.shape\n",
    "e.dtype\n",
    "e.reshape(1,15)\n",
    "d=e.reshape(5,3)\n",
    "print(d)"
   ]
  },
  {
   "cell_type": "code",
   "execution_count": null,
   "id": "ad804843",
   "metadata": {},
   "outputs": [
    {
     "ename": "",
     "evalue": "",
     "output_type": "error",
     "traceback": [
      "\u001b[1;31mThe kernel failed to start as 'eq' could not be imported from 'c:\\Users\\ADMIN\\Downloads\\operator.py'.\n",
      "\u001b[1;31mClick <a href='https://aka.ms/kernelFailuresModuleImportErrFromFile'>here</a> for more info."
     ]
    }
   ],
   "source": [
    "n=np.array([[[[[[1,2,4,4,45,6,8],[1,4,5,6,7,5,4]]]]]])\n",
    "print(n)\n",
    "n.ndim\n",
    "n.size\n",
    "n.dtype\n",
    "n.shape\n",
    "n.reshape(2,7)\n",
    "w=n.reshape(7,2)\n",
    "print(w)"
   ]
  },
  {
   "cell_type": "code",
   "execution_count": null,
   "id": "0f607a79",
   "metadata": {},
   "outputs": [],
   "source": [
    "r=np.array([[[[[[[[1,2,2,2,4,7],[4,5,6,54,1,2],[5,6,4,5,6,72],[2,4,5,6,7,6],[2,4,4,5,6644,4]]]]]]]])\n",
    "print(r)\n",
    "r.ndim\n",
    "r.size\n",
    "r.dtype\n",
    "r.shape\n",
    "t=r.reshape(2,15)\n",
    "print(t)"
   ]
  }
 ],
 "metadata": {
  "kernelspec": {
   "display_name": "Python 3",
   "language": "python",
   "name": "python3"
  },
  "language_info": {
   "codemirror_mode": {
    "name": "ipython",
    "version": 3
   },
   "file_extension": ".py",
   "mimetype": "text/x-python",
   "name": "python",
   "nbconvert_exporter": "python",
   "pygments_lexer": "ipython3",
   "version": "3.12.4"
  }
 },
 "nbformat": 4,
 "nbformat_minor": 5
}
