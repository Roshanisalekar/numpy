{
 "cells": [
  {
   "cell_type": "code",
   "execution_count": 2,
   "id": "51837023-6262-406c-95f3-10238197582a",
   "metadata": {},
   "outputs": [],
   "source": [
    "import numpy as np"
   ]
  },
  {
   "cell_type": "code",
   "execution_count": null,
   "id": "78f9289b-d5e2-4505-a4ae-a142b822ac00",
   "metadata": {},
   "outputs": [
    {
     "name": "stdout",
     "output_type": "stream",
     "text": [
      "[1, 2, 4, 21, 6, 2, 1, 4, 5, 6]\n",
      "[ 2  4  6  8 10 12]\n"
     ]
    }
   ],
   "source": [
    "l=[1,2,4,21,6]   #  list may add element hota hai  // op  : [1, 2, 4, 21, 6, 2, 1, 4, 5, 6]\n",
    "l2=[2,1,4,5,6]\n",
    "print(l+l2)\n",
    "\n",
    "n=np.array([1,2,3,4,5,6])    #  array may add element hota hai but position per element add hota hai // op :[ 2  4  6  8 10 12]\n",
    "n1=np.array([1,2,3,4,5,6])\n",
    "print(n+n1)\n",
    "\n"
   ]
  },
  {
   "cell_type": "code",
   "execution_count": 52,
   "id": "cf18174d",
   "metadata": {},
   "outputs": [
    {
     "name": "stdout",
     "output_type": "stream",
     "text": [
      "[ 2  4  6  8 10 12]\n",
      "[0 0 0 0 0 0]\n",
      "[ 1  4  9 16 25 36]\n",
      "[1. 1. 1. 1. 1. 1.]\n",
      "[0 0 0 0 0 0]\n"
     ]
    }
   ],
   "source": [
    "n=np.array([1,2,3,4,5,6])   \n",
    "n1=np.array([1,2,3,4,5,6])\n",
    "print(n+n1)\n",
    "print(n-n1)\n",
    "print(n*n1)\n",
    "print(n/n1)\n",
    "print(n%n1)"
   ]
  },
  {
   "cell_type": "code",
   "execution_count": null,
   "id": "f16b49c7",
   "metadata": {},
   "outputs": [
    {
     "name": "stdout",
     "output_type": "stream",
     "text": [
      "[1 2 4 5 6]\n"
     ]
    },
    {
     "data": {
      "text/plain": [
       "array([1, 2, 4, 0, 1])"
      ]
     },
     "execution_count": 58,
     "metadata": {},
     "output_type": "execute_result"
    }
   ],
   "source": [
    " #  use function \n",
    "\n",
    "n=np.array([1,2,4,5,6])      \n",
    "print(n)\n",
    "np.add(n,5)            #  array may per element 5 se increase\n",
    "np.subtract(n,1)       #  array may per element 1 se decrease\n",
    "np.multiply(n,5)       #  array may per element 5 se multiply \n",
    "np.divide(n,5)         #  array may per element 5 se divide\n",
    "np.mod(n,5)            #  array may per element 5 se modulus\n"
   ]
  },
  {
   "cell_type": "code",
   "execution_count": null,
   "id": "ebbb94fe",
   "metadata": {},
   "outputs": [],
   "source": []
  }
 ],
 "metadata": {
  "kernelspec": {
   "display_name": "Python 3",
   "language": "python",
   "name": "python3"
  },
  "language_info": {
   "codemirror_mode": {
    "name": "ipython",
    "version": 3
   },
   "file_extension": ".py",
   "mimetype": "text/x-python",
   "name": "python",
   "nbconvert_exporter": "python",
   "pygments_lexer": "ipython3",
   "version": "3.12.4"
  }
 },
 "nbformat": 4,
 "nbformat_minor": 5
}
